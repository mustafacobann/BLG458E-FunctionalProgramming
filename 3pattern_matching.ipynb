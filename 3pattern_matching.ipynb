{
 "cells": [
  {
   "cell_type": "markdown",
   "metadata": {},
   "source": [
    "# Tuple, List, Type, Pattern Matching"
   ]
  },
  {
   "cell_type": "markdown",
   "metadata": {},
   "source": [
    "*Some examples in this notebook are taken from BLG458E Functional Programming course slides which can be accessed through the following link: https://www.slideshare.net/uyar/tag/blg458e*"
   ]
  },
  {
   "cell_type": "markdown",
   "metadata": {},
   "source": [
    "<h2 style=\"color:red\">Tuple</h2>\n",
    "\n",
    "Tuples can contain different types of data, however size of the tuple is fixed."
   ]
  },
  {
   "cell_type": "code",
   "execution_count": 1,
   "metadata": {},
   "outputs": [],
   "source": [
    "dummy_tuple :: (Integer, Float, Integer, Bool)\n",
    "dummy_tuple = (3, 56.2, 8, True)"
   ]
  },
  {
   "cell_type": "markdown",
   "metadata": {},
   "source": [
    "If the tuple is a pair (meaning that it has exactly 2 elements), we can use *fst* and *snd* functions.  \n",
    "* **fst** returns the first element of the tuple\n",
    "* **snd** returns the second element "
   ]
  },
  {
   "cell_type": "code",
   "execution_count": 2,
   "metadata": {},
   "outputs": [],
   "source": [
    "hometown :: (String, Integer)\n",
    "hometown = (\"Sivas\", 58)"
   ]
  },
  {
   "cell_type": "code",
   "execution_count": 3,
   "metadata": {},
   "outputs": [
    {
     "data": {
      "text/plain": [
       "\"Sivas\""
      ]
     },
     "metadata": {},
     "output_type": "display_data"
    }
   ],
   "source": [
    "fst hometown"
   ]
  },
  {
   "cell_type": "code",
   "execution_count": 4,
   "metadata": {},
   "outputs": [
    {
     "data": {
      "text/plain": [
       "58"
      ]
     },
     "metadata": {},
     "output_type": "display_data"
    }
   ],
   "source": [
    "snd hometown"
   ]
  },
  {
   "cell_type": "markdown",
   "metadata": {},
   "source": [
    "### Passing tuples to functions\n",
    "Tuples can be sent as parameters to functions and also be returned from functions.  \n",
    "*Note: passing a tuple as parameter is NOT equal to passing multiple elements.*"
   ]
  },
  {
   "cell_type": "code",
   "execution_count": 5,
   "metadata": {},
   "outputs": [],
   "source": [
    "gcd :: (Integer, Integer) -> Integer\n",
    "gcd x = if snd x == 0 then fst x else gcd (snd x, fst x `mod` snd x)  "
   ]
  },
  {
   "cell_type": "code",
   "execution_count": 6,
   "metadata": {},
   "outputs": [
    {
     "data": {
      "text/plain": [
       "5"
      ]
     },
     "metadata": {},
     "output_type": "display_data"
    }
   ],
   "source": [
    "gcd (5,10)"
   ]
  },
  {
   "cell_type": "code",
   "execution_count": 7,
   "metadata": {},
   "outputs": [
    {
     "data": {
      "text/plain": [
       "1"
      ]
     },
     "metadata": {},
     "output_type": "display_data"
    }
   ],
   "source": [
    "gcd (3, 7)"
   ]
  },
  {
   "cell_type": "markdown",
   "metadata": {},
   "source": [
    "### Returning tuples from functions\n",
    "\n",
    "**Simplification function**:  \n",
    "Given a tuple (a,b), we simplify it using the following equation:\n",
    "$$ (a,b) = \\left(\\frac{a}{gcd(a,b)}, \\frac{b}{gcd(a,b)}\\right)$$"
   ]
  },
  {
   "cell_type": "code",
   "execution_count": 8,
   "metadata": {},
   "outputs": [],
   "source": [
    "simplify :: (Integer, Integer) -> (Integer, Integer)\n",
    "simplify (a, b) = (a `div` g, b `div` g)\n",
    "  where\n",
    "    g = gcd (a,b)"
   ]
  },
  {
   "cell_type": "code",
   "execution_count": 9,
   "metadata": {},
   "outputs": [
    {
     "data": {
      "text/plain": [
       "(3,5)"
      ]
     },
     "metadata": {},
     "output_type": "display_data"
    }
   ],
   "source": [
    "simplify (9, 15)"
   ]
  },
  {
   "cell_type": "markdown",
   "metadata": {},
   "source": [
    "### Type Synonym\n",
    "\n",
    "We can give a new name to an existing type (like typedef in C)  \n",
    "*Format*: `type newName = existingType`"
   ]
  },
  {
   "cell_type": "code",
   "execution_count": 10,
   "metadata": {},
   "outputs": [],
   "source": [
    "type Fraction = (Integer, Integer)"
   ]
  },
  {
   "cell_type": "code",
   "execution_count": 11,
   "metadata": {},
   "outputs": [],
   "source": [
    "simplify2 :: Fraction -> Fraction\n",
    "simplify2 (x,y) = (x `div` g, y `div` g)\n",
    "  where\n",
    "    g = gcd (x,y)"
   ]
  },
  {
   "cell_type": "code",
   "execution_count": 12,
   "metadata": {
    "scrolled": false
   },
   "outputs": [
    {
     "data": {
      "text/plain": [
       "(1,9)"
      ]
     },
     "metadata": {},
     "output_type": "display_data"
    }
   ],
   "source": [
    "simplify2 (2,18)"
   ]
  },
  {
   "cell_type": "markdown",
   "metadata": {},
   "source": [
    "<h2 style=\"color:red\">List</h2>\n",
    "\n",
    "Lists can contain an arbitrary number of values, however all elements must be of the same type."
   ]
  },
  {
   "cell_type": "code",
   "execution_count": 13,
   "metadata": {},
   "outputs": [],
   "source": [
    "li :: [Int]\n",
    "li = [34, 58, 23, 87, 356, 41]"
   ]
  },
  {
   "cell_type": "code",
   "execution_count": 14,
   "metadata": {},
   "outputs": [
    {
     "data": {
      "text/plain": [
       "[34,58,23,87,356,41]"
      ]
     },
     "metadata": {},
     "output_type": "display_data"
    }
   ],
   "source": [
    "li"
   ]
  },
  {
   "cell_type": "markdown",
   "metadata": {},
   "source": [
    "#### Ranges\n",
    "You can use ranges to define lists.  \n",
    "[a .. b] = [a, a+1, a+2, ... , b]  \n",
    "[a, p .. n] = [a, p, 2p-a, 3p-a, ... , n]"
   ]
  },
  {
   "cell_type": "code",
   "execution_count": 15,
   "metadata": {},
   "outputs": [
    {
     "data": {
      "text/plain": [
       "[5,6,7,8,9,10,11,12,13,14,15]"
      ]
     },
     "metadata": {},
     "output_type": "display_data"
    }
   ],
   "source": [
    "[5 .. 15]"
   ]
  },
  {
   "cell_type": "code",
   "execution_count": 16,
   "metadata": {},
   "outputs": [
    {
     "data": {
      "text/plain": [
       "[1,3,5,7,9,11,13,15,17,19]"
      ]
     },
     "metadata": {},
     "output_type": "display_data"
    }
   ],
   "source": [
    "[1, 3 .. 19]"
   ]
  },
  {
   "cell_type": "code",
   "execution_count": 17,
   "metadata": {},
   "outputs": [
    {
     "data": {
      "text/plain": [
       "\"mnopqrstuvwxyz\""
      ]
     },
     "metadata": {},
     "output_type": "display_data"
    }
   ],
   "source": [
    "['m' .. 'z']"
   ]
  },
  {
   "cell_type": "code",
   "execution_count": 18,
   "metadata": {},
   "outputs": [],
   "source": [
    "type Term = (Float, Int)\n",
    "poly :: [Term]\n",
    "poly = [(34.7, 3), (743.8, 2)]"
   ]
  },
  {
   "cell_type": "code",
   "execution_count": 19,
   "metadata": {},
   "outputs": [
    {
     "data": {
      "text/plain": [
       "[(34.7,3),(743.8,2)]"
      ]
     },
     "metadata": {},
     "output_type": "display_data"
    }
   ],
   "source": [
    "poly"
   ]
  },
  {
   "cell_type": "markdown",
   "metadata": {},
   "source": [
    "### Useful list functions\n",
    "**head**: returns the first element of a list  \n",
    "**tail**: returns all the elements except the first one  \n",
    "**last**: returns the last element of a list  \n",
    "**init**: returns all the elements except the last one  \n",
    "**null**: checks if the list is empty  \n",
    "**elem**: checks if an element is a member of a list  (usage: elem 'a' \"Mustafa\")  \n",
    "**reverse**: returns the list in reverse order  \n",
    "**replicate**: creates a list containing an item repeated x times (usage: replicate x 'c')  \n",
    "**take**: return the first n elements of the list (usage: take x li)  \n",
    "**drop**: drop n elements from the front of the list (usage: drop x li)    \n",
    "**splitAt**: split the elements at a given index (usage: splitAt x li)    \n",
    "**concat**: flattens a list  \n",
    "**zip**: zip [1, 2] \"ab\" ~> [(1, ’a’), (2, ’b’)]  "
   ]
  },
  {
   "cell_type": "code",
   "execution_count": 20,
   "metadata": {},
   "outputs": [
    {
     "data": {
      "text/plain": [
       "[34,58,23,87,356,41]"
      ]
     },
     "metadata": {},
     "output_type": "display_data"
    }
   ],
   "source": [
    "li"
   ]
  },
  {
   "cell_type": "code",
   "execution_count": 21,
   "metadata": {},
   "outputs": [
    {
     "data": {
      "text/plain": [
       "34"
      ]
     },
     "metadata": {},
     "output_type": "display_data"
    }
   ],
   "source": [
    "head li"
   ]
  },
  {
   "cell_type": "code",
   "execution_count": 22,
   "metadata": {},
   "outputs": [
    {
     "data": {
      "text/plain": [
       "[58,23,87,356,41]"
      ]
     },
     "metadata": {},
     "output_type": "display_data"
    }
   ],
   "source": [
    "tail li"
   ]
  },
  {
   "cell_type": "code",
   "execution_count": 23,
   "metadata": {},
   "outputs": [
    {
     "data": {
      "text/plain": [
       "41"
      ]
     },
     "metadata": {},
     "output_type": "display_data"
    }
   ],
   "source": [
    "last li"
   ]
  },
  {
   "cell_type": "code",
   "execution_count": 24,
   "metadata": {},
   "outputs": [
    {
     "data": {
      "text/plain": [
       "[34,58,23,87,356]"
      ]
     },
     "metadata": {},
     "output_type": "display_data"
    }
   ],
   "source": [
    "init li"
   ]
  },
  {
   "cell_type": "code",
   "execution_count": 25,
   "metadata": {},
   "outputs": [
    {
     "data": {
      "text/plain": [
       "False"
      ]
     },
     "metadata": {},
     "output_type": "display_data"
    }
   ],
   "source": [
    "null li"
   ]
  },
  {
   "cell_type": "code",
   "execution_count": 26,
   "metadata": {},
   "outputs": [
    {
     "data": {
      "text/plain": [
       "True"
      ]
     },
     "metadata": {},
     "output_type": "display_data"
    }
   ],
   "source": [
    "let li2 = []\n",
    "null li2"
   ]
  },
  {
   "cell_type": "code",
   "execution_count": 27,
   "metadata": {},
   "outputs": [
    {
     "data": {
      "text/plain": [
       "True"
      ]
     },
     "metadata": {},
     "output_type": "display_data"
    },
    {
     "data": {
      "text/plain": [
       "False"
      ]
     },
     "metadata": {},
     "output_type": "display_data"
    },
    {
     "data": {
      "text/plain": [
       "False"
      ]
     },
     "metadata": {},
     "output_type": "display_data"
    }
   ],
   "source": [
    "elem 'a' \"Mustafa\"\n",
    "elem 'b' \"Mustafa\"\n",
    "elem 'A' \"Mustafa\""
   ]
  },
  {
   "cell_type": "code",
   "execution_count": 28,
   "metadata": {},
   "outputs": [
    {
     "data": {
      "text/plain": [
       "\"aaaaaaaaaaaaaaa\""
      ]
     },
     "metadata": {},
     "output_type": "display_data"
    }
   ],
   "source": [
    "replicate 15 'a'"
   ]
  },
  {
   "cell_type": "code",
   "execution_count": 29,
   "metadata": {},
   "outputs": [
    {
     "data": {
      "text/plain": [
       "[1,2,4]"
      ]
     },
     "metadata": {},
     "output_type": "display_data"
    }
   ],
   "source": [
    "concat [[1,2], [], [4]]"
   ]
  },
  {
   "cell_type": "code",
   "execution_count": 30,
   "metadata": {},
   "outputs": [
    {
     "data": {
      "text/plain": [
       "[(1,9),(2,8),(3,7),(4,6),(5,5)]"
      ]
     },
     "metadata": {},
     "output_type": "display_data"
    }
   ],
   "source": [
    "zip [1,2,3,4,5] [9,8,7,6,5]"
   ]
  },
  {
   "cell_type": "markdown",
   "metadata": {},
   "source": [
    "#### Index Function (!!)\n",
    "\n",
    "* returns the element in the given index"
   ]
  },
  {
   "cell_type": "code",
   "execution_count": 31,
   "metadata": {},
   "outputs": [
    {
     "data": {
      "text/plain": [
       "9.83"
      ]
     },
     "metadata": {},
     "output_type": "display_data"
    }
   ],
   "source": [
    "li3 :: [Float]\n",
    "li3 = [3.5, 6.32, 9.83]\n",
    "\n",
    "li3 !! 2  -- returns the element in index 2"
   ]
  },
  {
   "cell_type": "markdown",
   "metadata": {},
   "source": [
    "#### Append Function (:)\n",
    "\n",
    "* takes an item and a list\n",
    "* adds the item to the list.\n",
    "* a right-associative function\n",
    "* equivalent to append() function in Python"
   ]
  },
  {
   "cell_type": "code",
   "execution_count": 32,
   "metadata": {},
   "outputs": [],
   "source": [
    "my_list :: [Int]\n",
    "my_list = [1,9,4]"
   ]
  },
  {
   "cell_type": "code",
   "execution_count": 33,
   "metadata": {},
   "outputs": [
    {
     "data": {
      "text/plain": [
       "[1,9,4]"
      ]
     },
     "metadata": {},
     "output_type": "display_data"
    }
   ],
   "source": [
    "my_list"
   ]
  },
  {
   "cell_type": "code",
   "execution_count": 34,
   "metadata": {},
   "outputs": [
    {
     "data": {
      "text/plain": [
       "[5,1,9,4]"
      ]
     },
     "metadata": {},
     "output_type": "display_data"
    }
   ],
   "source": [
    "5 : my_list  -- not the same as my_list : 5 which would give an error"
   ]
  },
  {
   "cell_type": "markdown",
   "metadata": {},
   "source": [
    "You can also append to an empty list"
   ]
  },
  {
   "cell_type": "code",
   "execution_count": 35,
   "metadata": {
    "scrolled": true
   },
   "outputs": [
    {
     "data": {
      "text/html": [
       "<style>/* Styles used for the Hoogle display in the pager */\n",
       ".hoogle-doc {\n",
       "display: block;\n",
       "padding-bottom: 1.3em;\n",
       "padding-left: 0.4em;\n",
       "}\n",
       ".hoogle-code {\n",
       "display: block;\n",
       "font-family: monospace;\n",
       "white-space: pre;\n",
       "}\n",
       ".hoogle-text {\n",
       "display: block;\n",
       "}\n",
       ".hoogle-name {\n",
       "color: green;\n",
       "font-weight: bold;\n",
       "}\n",
       ".hoogle-head {\n",
       "font-weight: bold;\n",
       "}\n",
       ".hoogle-sub {\n",
       "display: block;\n",
       "margin-left: 0.4em;\n",
       "}\n",
       ".hoogle-package {\n",
       "font-weight: bold;\n",
       "font-style: italic;\n",
       "}\n",
       ".hoogle-module {\n",
       "font-weight: bold;\n",
       "}\n",
       ".hoogle-class {\n",
       "font-weight: bold;\n",
       "}\n",
       ".get-type {\n",
       "color: green;\n",
       "font-weight: bold;\n",
       "font-family: monospace;\n",
       "display: block;\n",
       "white-space: pre-wrap;\n",
       "}\n",
       ".show-type {\n",
       "color: green;\n",
       "font-weight: bold;\n",
       "font-family: monospace;\n",
       "margin-left: 1em;\n",
       "}\n",
       ".mono {\n",
       "font-family: monospace;\n",
       "display: block;\n",
       "}\n",
       ".err-msg {\n",
       "color: red;\n",
       "font-style: italic;\n",
       "font-family: monospace;\n",
       "white-space: pre;\n",
       "display: block;\n",
       "}\n",
       "#unshowable {\n",
       "color: red;\n",
       "font-weight: bold;\n",
       "}\n",
       ".err-msg.in.collapse {\n",
       "padding-top: 0.7em;\n",
       "}\n",
       ".highlight-code {\n",
       "white-space: pre;\n",
       "font-family: monospace;\n",
       "}\n",
       ".suggestion-warning { \n",
       "font-weight: bold;\n",
       "color: rgb(200, 130, 0);\n",
       "}\n",
       ".suggestion-error { \n",
       "font-weight: bold;\n",
       "color: red;\n",
       "}\n",
       ".suggestion-name {\n",
       "font-weight: bold;\n",
       "}\n",
       "</style><div class=\"suggestion-name\" style=\"clear:both;\">Use list literal</div><div class=\"suggestion-row\" style=\"float: left;\"><div class=\"suggestion-warning\">Found:</div><div class=\"highlight-code\" id=\"haskell\">1453 : 1773 : []</div></div><div class=\"suggestion-row\" style=\"float: left;\"><div class=\"suggestion-warning\">Why Not:</div><div class=\"highlight-code\" id=\"haskell\">[1453, 1773]</div></div>"
      ],
      "text/plain": [
       "Line 1: Use list literal\n",
       "Found:\n",
       "1453 : 1773 : []\n",
       "Why not:\n",
       "[1453, 1773]"
      ]
     },
     "metadata": {},
     "output_type": "display_data"
    },
    {
     "data": {
      "text/plain": [
       "[1453,1773]"
      ]
     },
     "metadata": {},
     "output_type": "display_data"
    }
   ],
   "source": [
    "1453 : 1773 : []"
   ]
  },
  {
   "cell_type": "markdown",
   "metadata": {},
   "source": [
    "#### List Concatenation (++)\n",
    "\n",
    "* takes two lists\n",
    "* returns a list which is a concatenation of the given lists"
   ]
  },
  {
   "cell_type": "code",
   "execution_count": 36,
   "metadata": {},
   "outputs": [
    {
     "data": {
      "text/plain": [
       "[1,2,3,9,8,7]"
      ]
     },
     "metadata": {},
     "output_type": "display_data"
    }
   ],
   "source": [
    "li_x :: [Int]\n",
    "li_x = [1,2,3]\n",
    "\n",
    "li_y :: [Int]\n",
    "li_y = [9,8,7]\n",
    "\n",
    "li_x ++ li_y"
   ]
  },
  {
   "cell_type": "markdown",
   "metadata": {},
   "source": [
    "#### Length Function\n",
    "\n",
    "* returns the length of a list\n",
    "* equivalent to **len()** in Python"
   ]
  },
  {
   "cell_type": "code",
   "execution_count": 37,
   "metadata": {},
   "outputs": [
    {
     "data": {
      "text/plain": [
       "3"
      ]
     },
     "metadata": {},
     "output_type": "display_data"
    }
   ],
   "source": [
    "length li_x"
   ]
  },
  {
   "cell_type": "markdown",
   "metadata": {},
   "source": [
    "Let's write a function that returns the sum of the first and second elements in a list."
   ]
  },
  {
   "cell_type": "code",
   "execution_count": 38,
   "metadata": {},
   "outputs": [],
   "source": [
    "firstAndSecond :: [Int] -> Int\n",
    "firstAndSecond xs \n",
    "  | length xs < 2  = error \"list size is less than 2\"\n",
    "  | otherwise      = xs !! 0 + xs !! 1 "
   ]
  },
  {
   "cell_type": "markdown",
   "metadata": {},
   "source": [
    "### String\n",
    "A string is nothing but a list of characters, therefore you can use any list function on strings."
   ]
  },
  {
   "cell_type": "code",
   "execution_count": 39,
   "metadata": {},
   "outputs": [],
   "source": [
    "name :: String\n",
    "name = \"Mustafa\""
   ]
  },
  {
   "cell_type": "code",
   "execution_count": 40,
   "metadata": {},
   "outputs": [
    {
     "data": {
      "text/plain": [
       "'M'"
      ]
     },
     "metadata": {},
     "output_type": "display_data"
    }
   ],
   "source": [
    "head name"
   ]
  },
  {
   "cell_type": "code",
   "execution_count": 41,
   "metadata": {},
   "outputs": [
    {
     "data": {
      "text/plain": [
       "\"ustafa\""
      ]
     },
     "metadata": {},
     "output_type": "display_data"
    }
   ],
   "source": [
    "tail name"
   ]
  },
  {
   "cell_type": "code",
   "execution_count": 42,
   "metadata": {},
   "outputs": [
    {
     "data": {
      "text/plain": [
       "False"
      ]
     },
     "metadata": {},
     "output_type": "display_data"
    }
   ],
   "source": [
    "null name"
   ]
  },
  {
   "cell_type": "code",
   "execution_count": 43,
   "metadata": {},
   "outputs": [
    {
     "data": {
      "text/plain": [
       "7"
      ]
     },
     "metadata": {},
     "output_type": "display_data"
    }
   ],
   "source": [
    "length name"
   ]
  },
  {
   "cell_type": "code",
   "execution_count": 44,
   "metadata": {},
   "outputs": [
    {
     "data": {
      "text/plain": [
       "'t'"
      ]
     },
     "metadata": {},
     "output_type": "display_data"
    }
   ],
   "source": [
    "name !! 3"
   ]
  },
  {
   "cell_type": "code",
   "execution_count": 45,
   "metadata": {},
   "outputs": [
    {
     "data": {
      "text/plain": [
       "\"MustafaCoban\""
      ]
     },
     "metadata": {},
     "output_type": "display_data"
    }
   ],
   "source": [
    "name ++ \"Coban\""
   ]
  },
  {
   "cell_type": "code",
   "execution_count": 46,
   "metadata": {},
   "outputs": [
    {
     "data": {
      "text/plain": [
       "\"?Mustafa\""
      ]
     },
     "metadata": {},
     "output_type": "display_data"
    }
   ],
   "source": [
    "'?' : name"
   ]
  },
  {
   "cell_type": "markdown",
   "metadata": {},
   "source": [
    "<h2 style=\"color:red\">Algebraic Data Types</h2>\n",
    "\n",
    "Instead of using types like Int, Float, etc. we can introduce our own data types.   \n",
    "\n",
    "For example, Bool type can be defined as `data Bool = False | True`.  \n",
    "Here the **type** is Bool and the **value constructors** are True and False. These two are the values that a Bool can have.  \n",
    "\n",
    "### 1-) Enumerated Types\n",
    "\n",
    "This is just like **enum** in programming languages such as C or Java. \n",
    "\n",
    "For example, we can introduce a new type for seasons that can only have 4 different values: Winter, Spring, Summer, and Fall as below.  \n",
    "\n",
    "```haskell \n",
    "data Season = Winter | Spring | Summer | Fall\n",
    "```"
   ]
  },
  {
   "cell_type": "code",
   "execution_count": 47,
   "metadata": {},
   "outputs": [],
   "source": [
    "data Season = Winter | Spring | Summer | Fall\n",
    "              deriving Show  \n",
    "              \n",
    "-- we put this \"deriving Show\" thing in order to be able to print these values\n",
    " \n",
    "-- now we have a type called Season\n",
    "-- let's create a variable of type Season\n",
    "\n",
    "currentSeason :: Season\n",
    "currentSeason = Winter"
   ]
  },
  {
   "cell_type": "code",
   "execution_count": 48,
   "metadata": {},
   "outputs": [
    {
     "data": {
      "text/plain": [
       "Winter"
      ]
     },
     "metadata": {},
     "output_type": "display_data"
    }
   ],
   "source": [
    "currentSeason  \n",
    "\n",
    "-- if you don't include \"deriving Show\" in the type definition,\n",
    "-- this statement raises an error"
   ]
  },
  {
   "cell_type": "markdown",
   "metadata": {},
   "source": [
    "### 2-) Product Types\n",
    "\n",
    "Instead of using tuples to represent entities, we can use product types.  \n",
    "At the beginning of this notebook, in order to represent my hometown, I used the following notation:  \n",
    "```haskell\n",
    "hometown :: (String, Integer)\n",
    "hometown = (\"Sivas\", 58)\n",
    "```\n",
    "Instead of using a tuple, I can represent this using a product type as below.\n",
    "```haskell\n",
    "data City = City String Integer\n",
    "```\n",
    "So as to construct an element of type Hometown, a string and an Integer must be supplied.  \n",
    "As you may guess, this is a *Constructor* just like what we have in OOP languages. \n",
    "\n",
    "There can be more than one constructor as well.\n",
    "\n",
    "*Note: Constructor name can be the same as or different from the type name*"
   ]
  },
  {
   "cell_type": "code",
   "execution_count": 49,
   "metadata": {},
   "outputs": [
    {
     "data": {
      "text/plain": [
       "City \"Sivas\" 58"
      ]
     },
     "metadata": {},
     "output_type": "display_data"
    }
   ],
   "source": [
    "data City = City String Integer\n",
    "                deriving Show\n",
    "\n",
    "hometown :: City\n",
    "hometown = City \"Sivas\" 58\n",
    "\n",
    "hometown"
   ]
  },
  {
   "cell_type": "code",
   "execution_count": 50,
   "metadata": {},
   "outputs": [
    {
     "data": {
      "text/plain": [
       "City \"Istanbul\" 34"
      ]
     },
     "metadata": {},
     "output_type": "display_data"
    }
   ],
   "source": [
    "best_city :: City\n",
    "best_city = City \"Istanbul\" 34\n",
    "\n",
    "best_city"
   ]
  },
  {
   "cell_type": "markdown",
   "metadata": {},
   "source": [
    "Let's also see an example where we have more than one constructor."
   ]
  },
  {
   "cell_type": "code",
   "execution_count": 51,
   "metadata": {},
   "outputs": [],
   "source": [
    "data Shape = Point (Float, Float)         -- float1: x coordinate, float2: y coordinate \n",
    "           | Circle (Float, Float) Float  -- float3: radius\n",
    "           | Rectangle (Float, Float) Float Float -- float3: height, float4: width\n",
    "             deriving Show\n"
   ]
  },
  {
   "cell_type": "code",
   "execution_count": 52,
   "metadata": {},
   "outputs": [
    {
     "data": {
      "text/plain": [
       "Point (3.2,5.4)"
      ]
     },
     "metadata": {},
     "output_type": "display_data"
    }
   ],
   "source": [
    "point_1 :: Shape\n",
    "point_1 = Point (3.2, 5.4)\n",
    "\n",
    "point_1"
   ]
  },
  {
   "cell_type": "code",
   "execution_count": 53,
   "metadata": {},
   "outputs": [],
   "source": [
    "circle_1 :: Shape\n",
    "circle_1 = Circle (4.3,5.6) 34.3"
   ]
  },
  {
   "cell_type": "markdown",
   "metadata": {},
   "source": [
    "### 3-) Record Types\n",
    "In product types, we can write names of the fields in the constructors, which makes it more readable.  \n",
    "Another advantage is that all so-called *getter* functions are automatically created for the attributes."
   ]
  },
  {
   "cell_type": "code",
   "execution_count": 54,
   "metadata": {},
   "outputs": [],
   "source": [
    "data Person = Student {name :: String, \n",
    "                       school :: String,\n",
    "                       gpa :: Float}\n",
    "              deriving Show\n",
    "              \n",
    "me :: Person\n",
    "me = Student {name=\"Mustafa\", school=\"ITU\", gpa=3.99}"
   ]
  },
  {
   "cell_type": "code",
   "execution_count": 55,
   "metadata": {},
   "outputs": [
    {
     "data": {
      "text/plain": [
       "Student {name = \"Mustafa\", school = \"ITU\", gpa = 3.99}"
      ]
     },
     "metadata": {},
     "output_type": "display_data"
    }
   ],
   "source": [
    "me"
   ]
  },
  {
   "cell_type": "code",
   "execution_count": 56,
   "metadata": {},
   "outputs": [
    {
     "data": {
      "text/plain": [
       "3.99"
      ]
     },
     "metadata": {},
     "output_type": "display_data"
    }
   ],
   "source": [
    "gpa me"
   ]
  },
  {
   "cell_type": "code",
   "execution_count": 57,
   "metadata": {},
   "outputs": [
    {
     "data": {
      "text/plain": [
       "\"ITU\""
      ]
     },
     "metadata": {},
     "output_type": "display_data"
    }
   ],
   "source": [
    "school me"
   ]
  },
  {
   "cell_type": "markdown",
   "metadata": {},
   "source": [
    "<h2 style=\"color:red\">Pattern Matching</h2>\n",
    "\n",
    "* We can check expressions against patterns\n",
    "* The first matched pattern is used.\n",
    "\n",
    "Format:  \n",
    "**case** *exp* **of**  \n",
    "&nbsp;&nbsp;&nbsp;&nbsp;pattern1 -> expression1  \n",
    "&nbsp;&nbsp;&nbsp;&nbsp;pattern2 -> expression2  \n",
    "&nbsp;&nbsp;&nbsp;&nbsp;...  \n",
    "&nbsp;&nbsp;&nbsp;&nbsp;_ -> e\n",
    "\n",
    "Here we compare exp and patterns, as soon as we one of the patterns matches, we evaluate the expression of the matched pattern.\n",
    "\n",
    "When patterns are matched, name bindings are created.\n",
    "\n",
    "*Note*: _ pattern (aka wildcard) at the end matches any expression (just like *otherwise* guards), so if no pattern is matched, this last expression is evaluated. "
   ]
  },
  {
   "cell_type": "code",
   "execution_count": 58,
   "metadata": {},
   "outputs": [
    {
     "data": {
      "text/plain": [
       "2"
      ]
     },
     "metadata": {},
     "output_type": "display_data"
    }
   ],
   "source": [
    "-- Literal value pattern\n",
    "my_gcd :: Int -> Int -> Int\n",
    "my_gcd x y = case y of\n",
    "  0 -> x                    -- if y == 0, then return x\n",
    "  _ -> my_gcd y (x `mod` y)    -- in any other case, evaluate this line\n",
    "  \n",
    "my_gcd 10 4"
   ]
  },
  {
   "cell_type": "code",
   "execution_count": 59,
   "metadata": {},
   "outputs": [
    {
     "data": {
      "text/plain": [
       "2"
      ]
     },
     "metadata": {},
     "output_type": "display_data"
    }
   ],
   "source": [
    "-- Tuple pattern\n",
    "gcd' :: (Int, Int) -> Int\n",
    "gcd' a = case a of \n",
    "  (x, 0) -> x\n",
    "  (x, y) -> gcd'(y, x `mod` y)\n",
    "\n",
    "gcd' (10, 4)"
   ]
  },
  {
   "cell_type": "code",
   "execution_count": 60,
   "metadata": {},
   "outputs": [
    {
     "data": {
      "text/plain": [
       "(3,(5,2))"
      ]
     },
     "metadata": {},
     "output_type": "display_data"
    }
   ],
   "source": [
    "-- nested patterns\n",
    "\n",
    "shift :: ((Int, Int), Int) -> (Int, (Int, Int))\n",
    "shift a = case a of\n",
    "  ((x,y), z) -> (x, (y,z))\n",
    "\n",
    "shift ((3,5),2)"
   ]
  },
  {
   "cell_type": "code",
   "execution_count": 61,
   "metadata": {},
   "outputs": [
    {
     "data": {
      "text/plain": [
       "6"
      ]
     },
     "metadata": {},
     "output_type": "display_data"
    }
   ],
   "source": [
    "-- when you don't need a binding, use wildcard notation \"_\"\n",
    "\n",
    "third :: (Int, Int, Int) -> Int\n",
    "third a = case a of\n",
    "  (_, _, t) -> t\n",
    "  \n",
    "third (3,5,6)"
   ]
  },
  {
   "cell_type": "markdown",
   "metadata": {},
   "source": [
    "### List Patterns\n",
    "\n",
    "* empty list = [ ]\n",
    "* nonempty list = x:xs\n",
    "* list with exactly one element = [x]\n",
    "* list with exactly two elements = [x1, x2]\n",
    "* list with at least two elements = x1:x2:xs"
   ]
  },
  {
   "cell_type": "code",
   "execution_count": 62,
   "metadata": {},
   "outputs": [
    {
     "data": {
      "text/plain": [
       "3"
      ]
     },
     "metadata": {},
     "output_type": "display_data"
    }
   ],
   "source": [
    "len :: [a] -> Int\n",
    "len x = case x of\n",
    "  []   -> 0\n",
    "  x':xs -> 1 + len xs\n",
    "\n",
    "len [2,4,7]"
   ]
  },
  {
   "cell_type": "code",
   "execution_count": 63,
   "metadata": {},
   "outputs": [
    {
     "data": {
      "text/plain": [
       "16"
      ]
     },
     "metadata": {},
     "output_type": "display_data"
    }
   ],
   "source": [
    "firstPlusThird :: [Int] -> Int\n",
    "firstPlusThird a = case a of\n",
    "  []        -> 0\n",
    "  [x1]      -> x1\n",
    "  [x1, _]   -> x1\n",
    "  x1:_:x3:_ -> x1 + x3\n",
    "\n",
    "firstPlusThird [7,3,9,1,5,6]"
   ]
  },
  {
   "cell_type": "code",
   "execution_count": 64,
   "metadata": {},
   "outputs": [],
   "source": [
    "checkNondecreasing :: [Int] -> Bool\n",
    "checkNondecreasing a = case a of \n",
    "  []       -> error \"empty list\"\n",
    "  [_]      -> True\n",
    "  x1:x2:xs -> x2 >= x1 && checkNondecreasing (x2:xs)  -- this creates a new list"
   ]
  },
  {
   "cell_type": "code",
   "execution_count": 65,
   "metadata": {},
   "outputs": [
    {
     "data": {
      "text/plain": [
       "True"
      ]
     },
     "metadata": {},
     "output_type": "display_data"
    },
    {
     "data": {
      "text/plain": [
       "False"
      ]
     },
     "metadata": {},
     "output_type": "display_data"
    }
   ],
   "source": [
    "checkNondecreasing [2,5,5,7]\n",
    "checkNondecreasing [2,5,5,3]"
   ]
  },
  {
   "cell_type": "markdown",
   "metadata": {},
   "source": [
    "In the checkNondecreasing function, (x2:xs) creates a new list and then passes it to the next function.  \n",
    "If you don't need to create a new list, you can use '@' as below."
   ]
  },
  {
   "cell_type": "code",
   "execution_count": 66,
   "metadata": {},
   "outputs": [],
   "source": [
    "checkNondecreasing2 :: [Int] -> Bool\n",
    "checkNondecreasing2 a = case a of\n",
    "  []       -> error \"empty list\"\n",
    "  [_]      -> True\n",
    "  x1:xs@(x2:_)-> x2 >= x1 && checkNondecreasing xs"
   ]
  },
  {
   "cell_type": "markdown",
   "metadata": {},
   "source": [
    "Pattern matching can also be used to get the values in the algebraic types."
   ]
  },
  {
   "cell_type": "code",
   "execution_count": 67,
   "metadata": {},
   "outputs": [
    {
     "data": {
      "text/plain": [
       "\"Bob\""
      ]
     },
     "metadata": {},
     "output_type": "display_data"
    }
   ],
   "source": [
    "data Person = Person String Integer\n",
    "              deriving Show\n",
    "\n",
    "getName :: Person -> String\n",
    "getName p = case p of\n",
    "  Person name _ -> name\n",
    "  \n",
    "him :: Person\n",
    "him = Person \"Bob\" 1958\n",
    "\n",
    "getName him"
   ]
  },
  {
   "cell_type": "markdown",
   "metadata": {},
   "source": [
    "Parameter pattern matching can also be used as follows."
   ]
  },
  {
   "cell_type": "code",
   "execution_count": 68,
   "metadata": {
    "scrolled": true
   },
   "outputs": [
    {
     "data": {
      "text/plain": [
       "2"
      ]
     },
     "metadata": {},
     "output_type": "display_data"
    },
    {
     "data": {
      "text/plain": [
       "2"
      ]
     },
     "metadata": {},
     "output_type": "display_data"
    }
   ],
   "source": [
    "-- gcd with 2 integer parameters\n",
    "\n",
    "gcd2 :: Integer -> Integer -> Integer\n",
    "gcd2 x 0 = x\n",
    "gcd2 x y = gcd2 y (x `mod` y)\n",
    "\n",
    "-- gcd with a tuple parameter\n",
    "gcdT :: (Integer, Integer) -> Integer\n",
    "gcdT (x, 0) = x\n",
    "gcdT (x, y) = gcdT (y, (x `mod` y))\n",
    "\n",
    "\n",
    "gcd2 10 4\n",
    "gcdT (10,4)"
   ]
  },
  {
   "cell_type": "markdown",
   "metadata": {},
   "source": [
    "**Exercise: write your own zip3 function**"
   ]
  },
  {
   "cell_type": "code",
   "execution_count": 69,
   "metadata": {},
   "outputs": [],
   "source": [
    "zip33 :: [a] -> [b] -> [c] -> [(a,b,c)]\n",
    "zip33 [] [] [] = []\n",
    "zip33 (x:xs) (y:ys) (z:zs) = (x,y,z) : zip33 xs ys zs"
   ]
  },
  {
   "cell_type": "code",
   "execution_count": 70,
   "metadata": {},
   "outputs": [
    {
     "data": {
      "text/plain": [
       "[(1,10,100),(2,20,200),(3,30,300)]"
      ]
     },
     "metadata": {},
     "output_type": "display_data"
    }
   ],
   "source": [
    "zip33 [1,2,3] [10,20,30] [100,200,300]"
   ]
  },
  {
   "cell_type": "markdown",
   "metadata": {},
   "source": [
    "**Exercise: write your own unzip function**"
   ]
  },
  {
   "cell_type": "code",
   "execution_count": 71,
   "metadata": {},
   "outputs": [],
   "source": [
    "my_unzip :: [(a,b)] -> ([a], [b])\n",
    "my_unzip []     = ([], [])\n",
    "my_unzip ((x,y):xys) = (x : xs, y : ys)\n",
    "  where\n",
    "    (xs, ys) = my_unzip xys "
   ]
  },
  {
   "cell_type": "code",
   "execution_count": 72,
   "metadata": {},
   "outputs": [],
   "source": [
    "merg :: [Int] -> [Int] -> [Int]\n",
    "merg [] [] = []\n",
    "merg (x:xs) [] = (x:xs)\n",
    "merg [] (y:ys) = (y:ys)\n",
    "merg (x:xs) (y:ys) = if x <= y then x : merg xs (y:ys) else y : merg (x:xs) ys"
   ]
  },
  {
   "cell_type": "code",
   "execution_count": 73,
   "metadata": {},
   "outputs": [
    {
     "data": {
      "text/plain": [
       "[1,2,3,4,5,6,8,9]"
      ]
     },
     "metadata": {},
     "output_type": "display_data"
    }
   ],
   "source": [
    "merg [1,3,4,5] [2,6,8,9]"
   ]
  }
 ],
 "metadata": {
  "kernelspec": {
   "display_name": "Haskell",
   "language": "haskell",
   "name": "haskell"
  },
  "language_info": {
   "codemirror_mode": "ihaskell",
   "file_extension": ".hs",
   "name": "haskell",
   "pygments_lexer": "Haskell",
   "version": "8.6.3"
  }
 },
 "nbformat": 4,
 "nbformat_minor": 2
}
