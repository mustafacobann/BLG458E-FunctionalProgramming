{
 "cells": [
  {
   "cell_type": "markdown",
   "metadata": {},
   "source": [
    "## Recursion Examples"
   ]
  },
  {
   "cell_type": "markdown",
   "metadata": {},
   "source": [
    "*Examples in this notebook are taken from BLG458E Functional Programming course slides which can be accessed through the following link: https://www.slideshare.net/uyar/tag/blg458e*"
   ]
  },
  {
   "cell_type": "markdown",
   "metadata": {},
   "source": [
    "### Example 1: Greatest Common Divisor  \n",
    "\n",
    "The formula for a recursive gcd calculator is as follows:\n",
    "\n",
    "`gcd(x,y) = if y is 0 -> x, else gcd(y, x mod y)`\n",
    " "
   ]
  },
  {
   "cell_type": "code",
   "execution_count": 1,
   "metadata": {},
   "outputs": [],
   "source": [
    "gcd :: Integer -> Integer -> Integer\n",
    "gcd x y = if y == 0 then x else gcd y (mod x y)  -- mod x y == x `mod` y"
   ]
  },
  {
   "cell_type": "code",
   "execution_count": 2,
   "metadata": {},
   "outputs": [
    {
     "data": {
      "text/plain": [
       "3"
      ]
     },
     "metadata": {},
     "output_type": "display_data"
    }
   ],
   "source": [
    "gcd 6 15"
   ]
  },
  {
   "cell_type": "code",
   "execution_count": 3,
   "metadata": {},
   "outputs": [
    {
     "data": {
      "text/plain": [
       "1"
      ]
     },
     "metadata": {},
     "output_type": "display_data"
    }
   ],
   "source": [
    "gcd 24 11"
   ]
  },
  {
   "cell_type": "markdown",
   "metadata": {},
   "source": [
    "### Example 2: Factorial (Solution 1 - Normal Recursion)  \n",
    "\n",
    "The formula to find factorial is as follow.\n",
    "\n",
    "`fact(x) = if x is 0 then 1, else x * fact(x-1)` (valid when x >= 0)  \n",
    "\n",
    "*We'll also check if the parameter is negative.*"
   ]
  },
  {
   "cell_type": "code",
   "execution_count": 4,
   "metadata": {},
   "outputs": [],
   "source": [
    "fact :: Integer -> Integer\n",
    "fact x\n",
    "  | x < 0     = error \"negative parameter :(\"\n",
    "  | x == 0     = 1\n",
    "  |otherwise  = x * fact (x-1)"
   ]
  },
  {
   "cell_type": "code",
   "execution_count": 5,
   "metadata": {},
   "outputs": [
    {
     "data": {
      "text/plain": [
       "fact 5:"
      ]
     },
     "metadata": {},
     "output_type": "display_data"
    },
    {
     "data": {
      "text/plain": [
       "120"
      ]
     },
     "metadata": {},
     "output_type": "display_data"
    },
    {
     "data": {
      "text/plain": [
       "fact (-2):"
      ]
     },
     "metadata": {},
     "output_type": "display_data"
    },
    {
     "data": {
      "text/html": [
       "<style>/* Styles used for the Hoogle display in the pager */\n",
       ".hoogle-doc {\n",
       "display: block;\n",
       "padding-bottom: 1.3em;\n",
       "padding-left: 0.4em;\n",
       "}\n",
       ".hoogle-code {\n",
       "display: block;\n",
       "font-family: monospace;\n",
       "white-space: pre;\n",
       "}\n",
       ".hoogle-text {\n",
       "display: block;\n",
       "}\n",
       ".hoogle-name {\n",
       "color: green;\n",
       "font-weight: bold;\n",
       "}\n",
       ".hoogle-head {\n",
       "font-weight: bold;\n",
       "}\n",
       ".hoogle-sub {\n",
       "display: block;\n",
       "margin-left: 0.4em;\n",
       "}\n",
       ".hoogle-package {\n",
       "font-weight: bold;\n",
       "font-style: italic;\n",
       "}\n",
       ".hoogle-module {\n",
       "font-weight: bold;\n",
       "}\n",
       ".hoogle-class {\n",
       "font-weight: bold;\n",
       "}\n",
       ".get-type {\n",
       "color: green;\n",
       "font-weight: bold;\n",
       "font-family: monospace;\n",
       "display: block;\n",
       "white-space: pre-wrap;\n",
       "}\n",
       ".show-type {\n",
       "color: green;\n",
       "font-weight: bold;\n",
       "font-family: monospace;\n",
       "margin-left: 1em;\n",
       "}\n",
       ".mono {\n",
       "font-family: monospace;\n",
       "display: block;\n",
       "}\n",
       ".err-msg {\n",
       "color: red;\n",
       "font-style: italic;\n",
       "font-family: monospace;\n",
       "white-space: pre;\n",
       "display: block;\n",
       "}\n",
       "#unshowable {\n",
       "color: red;\n",
       "font-weight: bold;\n",
       "}\n",
       ".err-msg.in.collapse {\n",
       "padding-top: 0.7em;\n",
       "}\n",
       ".highlight-code {\n",
       "white-space: pre;\n",
       "font-family: monospace;\n",
       "}\n",
       ".suggestion-warning { \n",
       "font-weight: bold;\n",
       "color: rgb(200, 130, 0);\n",
       "}\n",
       ".suggestion-error { \n",
       "font-weight: bold;\n",
       "color: red;\n",
       "}\n",
       ".suggestion-name {\n",
       "font-weight: bold;\n",
       "}\n",
       "</style><span class='err-msg'>negative parameter :(<br/>CallStack (from HasCallStack):<br/>  error, called at &lt;interactive&gt;:3:17 in interactive:IHaskell63</span>"
      ],
      "text/plain": [
       "negative parameter :(\n",
       "CallStack (from HasCallStack):\n",
       "  error, called at <interactive>:3:17 in interactive:Ghci63"
      ]
     },
     "metadata": {},
     "output_type": "display_data"
    }
   ],
   "source": [
    "putStr \"fact 5:\"\n",
    "fact 5\n",
    "\n",
    "putStr \"fact (-2):\"\n",
    "fact (-2)"
   ]
  },
  {
   "cell_type": "markdown",
   "metadata": {},
   "source": [
    "### Example 2: Factorial (Solution 2 - Tail Recursion)  \n",
    "\n",
    "**Tail Recursion**: result of recursive call is also the result of the caller.  \n",
    "Since there is no operation left after the recursive call, we can reuse the same stack frame for recursive calls.  \n",
    "*More efficient compared to Solution 1.*\n",
    "\n",
    "In order to make Solution 1 tail recursive, we'll introduce a helper function and an accumulator."
   ]
  },
  {
   "cell_type": "code",
   "execution_count": 6,
   "metadata": {},
   "outputs": [],
   "source": [
    "factHelper :: Integer -> Integer -> Integer\n",
    "factHelper acc x \n",
    "  | x < 0      = error \"negative parameter :(\"\n",
    "  | x == 0     = acc  \n",
    "  | otherwise  = factHelper (acc*x) (x-1)\n",
    "  \n",
    "-- in order to run this function with one parameter (eliminating the accumulator),\n",
    "-- we'll set the accumulator to 1 in the main factorial function\n",
    "\n",
    "fac :: Integer -> Integer  \n",
    "fac x = factHelper 1 x\n",
    "\n",
    "-- fac calls factHelper with accumulator being 1"
   ]
  },
  {
   "cell_type": "code",
   "execution_count": 7,
   "metadata": {},
   "outputs": [
    {
     "data": {
      "text/plain": [
       "5040"
      ]
     },
     "metadata": {},
     "output_type": "display_data"
    }
   ],
   "source": [
    "fac 7"
   ]
  },
  {
   "cell_type": "code",
   "execution_count": 8,
   "metadata": {},
   "outputs": [
    {
     "data": {
      "text/plain": [
       "1"
      ]
     },
     "metadata": {},
     "output_type": "display_data"
    }
   ],
   "source": [
    "fac 0"
   ]
  },
  {
   "cell_type": "markdown",
   "metadata": {},
   "source": [
    "Since **factHelper** is only used for fac function, we can define it as a local function as below."
   ]
  },
  {
   "cell_type": "code",
   "execution_count": 9,
   "metadata": {},
   "outputs": [],
   "source": [
    "factt :: Integer -> Integer\n",
    "factt x \n",
    "  | x < 0      = error \"negative parameter :(\"\n",
    "  | otherwise  = factHelper 1 x\n",
    "    where\n",
    "      factHelper :: Integer -> Integer -> Integer\n",
    "      factHelper acc x' \n",
    "        | x' == 0     = acc  \n",
    "        | otherwise  = factHelper (acc*x') (x'-1)"
   ]
  },
  {
   "cell_type": "code",
   "execution_count": 10,
   "metadata": {},
   "outputs": [
    {
     "data": {
      "text/plain": [
       "5040"
      ]
     },
     "metadata": {},
     "output_type": "display_data"
    }
   ],
   "source": [
    "factt 7"
   ]
  },
  {
   "cell_type": "markdown",
   "metadata": {},
   "source": [
    "### Example 3: Exponentiation \n",
    "\n",
    "The formula to find factorial is as follow.\n",
    "\n",
    "`exp(x,p) = if p is 0 then 1, else x * exp(x, p-1)`  "
   ]
  },
  {
   "cell_type": "code",
   "execution_count": 11,
   "metadata": {},
   "outputs": [],
   "source": [
    "exp :: Integer -> Integer -> Integer\n",
    "exp x p\n",
    "  | p == 0     = 1\n",
    "  | otherwise  = x * exp x (p-1)"
   ]
  },
  {
   "cell_type": "code",
   "execution_count": 12,
   "metadata": {},
   "outputs": [
    {
     "data": {
      "text/plain": [
       "125"
      ]
     },
     "metadata": {},
     "output_type": "display_data"
    }
   ],
   "source": [
    "exp 5 3"
   ]
  },
  {
   "cell_type": "code",
   "execution_count": 13,
   "metadata": {},
   "outputs": [
    {
     "data": {
      "text/plain": [
       "1"
      ]
     },
     "metadata": {},
     "output_type": "display_data"
    }
   ],
   "source": [
    "exp 7 0"
   ]
  },
  {
   "cell_type": "markdown",
   "metadata": {},
   "source": [
    "### Example 3: Exponentiation (Tail Recursion)"
   ]
  },
  {
   "cell_type": "code",
   "execution_count": 14,
   "metadata": {},
   "outputs": [],
   "source": [
    "expp :: Integer -> Integer -> Integer\n",
    "expp x p = expHelper x p 1\n",
    "  where\n",
    "    expHelper :: Integer -> Integer -> Integer -> Integer\n",
    "    expHelper a b acc\n",
    "      | b == 0     = acc\n",
    "      | otherwise  = expHelper a (b-1) (acc*a) "
   ]
  },
  {
   "cell_type": "code",
   "execution_count": 15,
   "metadata": {},
   "outputs": [
    {
     "data": {
      "text/plain": [
       "81"
      ]
     },
     "metadata": {},
     "output_type": "display_data"
    }
   ],
   "source": [
    "expp 9 2"
   ]
  },
  {
   "cell_type": "markdown",
   "metadata": {},
   "source": [
    "### Example 4: Fibonacci (Tree Recursion)  "
   ]
  },
  {
   "cell_type": "code",
   "execution_count": 16,
   "metadata": {},
   "outputs": [],
   "source": [
    "fib :: Integer -> Integer\n",
    "fib a \n",
    "  | a == 1     = 1\n",
    "  | a == 2     = 1 \n",
    "  | otherwise  = fib (a-2) + fib (a-1) "
   ]
  },
  {
   "cell_type": "code",
   "execution_count": 17,
   "metadata": {},
   "outputs": [
    {
     "data": {
      "text/plain": [
       "8"
      ]
     },
     "metadata": {},
     "output_type": "display_data"
    }
   ],
   "source": [
    "fib 6"
   ]
  },
  {
   "cell_type": "markdown",
   "metadata": {},
   "source": [
    "### Example 4: Fibonacci (Tail Recursion)  "
   ]
  },
  {
   "cell_type": "code",
   "execution_count": 18,
   "metadata": {},
   "outputs": [],
   "source": [
    "fibb :: Integer -> Integer\n",
    "fibb a = fibHelper 1 1 a\n",
    "  where \n",
    "    fibHelper :: Integer -> Integer -> Integer -> Integer\n",
    "    fibHelper f1 f2 x\n",
    "      | x == 1     = f1\n",
    "      | x == 2     = f2\n",
    "      | otherwise  = fibHelper f2 (f1+f2) (x-1)"
   ]
  },
  {
   "cell_type": "code",
   "execution_count": 19,
   "metadata": {},
   "outputs": [
    {
     "data": {
      "text/plain": [
       "8"
      ]
     },
     "metadata": {},
     "output_type": "display_data"
    }
   ],
   "source": [
    "fibb 6"
   ]
  },
  {
   "cell_type": "markdown",
   "metadata": {},
   "source": [
    "### Example 5: Finding Square Roots using Newton's Method\n",
    "\n",
    "Suppose we want to find the value of square root of x.  \n",
    "\n",
    "**Procedure**:  \n",
    "1) Start with an initial guess, y.  \n",
    "2) Next guess is the arithmetic mean of y and x/y  \n",
    "3) Repeat step 2 until the guess is good enough (y * y ≈ x)  "
   ]
  },
  {
   "cell_type": "code",
   "execution_count": 20,
   "metadata": {},
   "outputs": [],
   "source": [
    "newton :: Float -> Float -> Float\n",
    "newton x y\n",
    "  | isGoodEnough x y  = y\n",
    "  | otherwise         = newton x (improve x y)\n",
    "    where\n",
    "      isGoodEnough :: Float -> Float -> Bool\n",
    "      isGoodEnough x y' = abs (y' * y' - x) < 0.001\n",
    "      \n",
    "      improve :: Float -> Float -> Float\n",
    "      improve x y' = 0.5 * (y' + (x/y'))\n",
    "\n",
    "sqrt :: Float -> Float\n",
    "sqrt x = newton x 1.0"
   ]
  },
  {
   "cell_type": "code",
   "execution_count": 21,
   "metadata": {},
   "outputs": [
    {
     "data": {
      "text/plain": [
       "1.4142157"
      ]
     },
     "metadata": {},
     "output_type": "display_data"
    }
   ],
   "source": [
    "sqrt 2"
   ]
  },
  {
   "cell_type": "code",
   "execution_count": 22,
   "metadata": {},
   "outputs": [
    {
     "data": {
      "text/plain": [
       "2.2360687"
      ]
     },
     "metadata": {},
     "output_type": "display_data"
    }
   ],
   "source": [
    "sqrt 5"
   ]
  }
 ],
 "metadata": {
  "kernelspec": {
   "display_name": "Haskell",
   "language": "haskell",
   "name": "haskell"
  },
  "language_info": {
   "codemirror_mode": "ihaskell",
   "file_extension": ".hs",
   "name": "haskell",
   "pygments_lexer": "Haskell",
   "version": "8.6.3"
  }
 },
 "nbformat": 4,
 "nbformat_minor": 2
}
