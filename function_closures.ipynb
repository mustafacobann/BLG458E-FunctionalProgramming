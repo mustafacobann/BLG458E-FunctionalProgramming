{
 "cells": [
  {
   "cell_type": "markdown",
   "metadata": {},
   "source": [
    "## Function Closures\n",
    "\n",
    "*Some snippets in this notebook are taken from BLG458E Functional Programming course slides which can be accessed through the following link: https://www.slideshare.net/uyar/tag/blg458e*\n",
    "\n",
    "\n",
    "Functions have access to the variables defined outside the function.  \n",
    "\n",
    "First let's have a look at an example in Python, which is more readable thus easier to understand :-)  \n",
    "\n",
    "```Python\n",
    "def set_step(step):\n",
    "    def get_range(start, end):\n",
    "        return list(range(start, end+1, step))\n",
    "    return get_range```\n",
    "   \n",
    "As you see, get_range() function has access to the variable named *step* even if step is not defined in the get_range function. It is not a parameter passed to get_range() either.  \n",
    "\n",
    "get_range() can access to step variable because of the outer *set_step* function.  \n",
    "\n",
    "When we type the following;  \n",
    "```Python \n",
    "step1 = set_step(1)```  \n",
    "It returns a get_range() function whose step value is fixed (which is 1).  \n",
    "So when we type the following;  \n",
    "```Python\n",
    "step1(3,10)```  \n",
    "We get this list:  [3, 4, 5, 6, 7, 8, 9, 10]\n",
    "\n",
    "Below is a Haskell implementation of the same function.\n"
   ]
  },
  {
   "cell_type": "code",
   "execution_count": 1,
   "metadata": {},
   "outputs": [
    {
     "data": {
      "text/plain": [
       "[3,4,5,6,7,8,9,10]"
      ]
     },
     "metadata": {},
     "output_type": "display_data"
    }
   ],
   "source": [
    "set_step :: Int -> (Int -> Int -> [Int])\n",
    "set_step step = get_range\n",
    "  where\n",
    "    get_range :: Int -> Int -> [Int]\n",
    "    get_range start end = [start, start+step .. end]\n",
    "    \n",
    "step1 :: (Int -> Int -> [Int])\n",
    "step1 = set_step 1\n",
    "\n",
    "step1 3 10"
   ]
  },
  {
   "cell_type": "markdown",
   "metadata": {},
   "source": [
    "### @decorators\n",
    "\n",
    "Decorator takes a function and returns a *decorated* version.\n",
    "\n",
    "Let's see an example.\n",
    "\n",
    "```Python\n",
    "# info decorates function f and returns a wrapped version of it.\n",
    "def info(f):\n",
    "    def wrapped(x):\n",
    "        print(\"Entering with parameter: {}\".format(x))\n",
    "        result = f(x)\n",
    "        print(\"Exiting with result: {}\".format(result))\n",
    "        return result\n",
    "    return wrapped\n",
    "\n",
    "def fac(n):\n",
    "\treturn 1 if n == 0 else n * fac(n-1)\n",
    "```\n",
    "Now when we type `info(fac)`, this returns a *wrapped* version of *fac* function which has additional features like showing what is passed and what is returned! The beauty of decorators is that you don't have to call info and get a wrapped version and so on. What you need to do is put `@info` on top of the function which you want to wrap. Here's the final version of the code:  \n",
    "\n",
    "```Python\n",
    "def info(f):\n",
    "    def wrapped(x):\n",
    "        print(\"Entering with parameter: {}\".format(x))\n",
    "        result = f(x)\n",
    "        print(\"Exiting with result: {}\".format(result))\n",
    "        return result\n",
    "    return wrapped\n",
    "\n",
    "@info\n",
    "def fac(n):\n",
    "\treturn 1 if n == 0 else n * fac(n-1)\n",
    "```\n",
    "Now each time fac is called, it is wrapped by info function and gets all the new features defined in wrapped!  \n",
    "When we type `fac(3)`, the following is displayed:  \n",
    "\n",
    "*Entering with parameter: 3  \n",
    "Entering with parameter: 2  \n",
    "Entering with parameter: 1  \n",
    "Entering with parameter: 0  \n",
    "Exiting with result: 1  \n",
    "Exiting with result: 1  \n",
    "Exiting with result: 2  \n",
    "Exiting with result: 6  \n",
    "6*  "
   ]
  },
  {
   "cell_type": "markdown",
   "metadata": {},
   "source": [
    "**Example 2**:\n",
    "\n",
    "If you are familiar with dynamic programming, you probably know memoization which is basically remembering what is already calculated so as not to repeat same calculation steps over and over. Here's a memoized version of fibonacci number calculation which works way faster than simple version \n",
    "\n",
    "```Python\n",
    "def memoize(f):\n",
    "    cache = {}\n",
    "    def wrapped(n):\n",
    "        if n not in cache:\n",
    "            cache[n] = f(n)\n",
    "        return cache[n]\n",
    "    return wrapped\n",
    "\n",
    "@memoize\n",
    "def fib(n):\n",
    "    if n == 1 or n == 2:\n",
    "        return 1\n",
    "    else:\n",
    "        return fib(n-1) + fib(n-2)\n",
    "```\n",
    "\n",
    "Note that we do not modify fib function, it is the same as before."
   ]
  },
  {
   "cell_type": "markdown",
   "metadata": {},
   "source": [
    "### Partial Application\n",
    "In Haskell, you can call a function with fewer parameters than it expects. What it does is it takes the parameters given, and then returns a new function which requires the remaining parameters. This is called *partial application*"
   ]
  },
  {
   "cell_type": "code",
   "execution_count": 2,
   "metadata": {},
   "outputs": [
    {
     "data": {
      "text/plain": [
       "[6,14,40]"
      ]
     },
     "metadata": {},
     "output_type": "display_data"
    }
   ],
   "source": [
    "-- the function that doubles every element in a list\n",
    "doubleAll :: [Integer] -> [Integer]\n",
    "doubleAll x = map (* 2) x\n",
    "\n",
    "doubleAll [3,7,20]"
   ]
  },
  {
   "cell_type": "markdown",
   "metadata": {},
   "source": [
    "**doubleAll** function makes use of partial application because multiplication function *(*)* expects 2 operands but is given one.  \n",
    "This way, we can apply **\"? * 2 \"** operation to every element in the list via *map*."
   ]
  },
  {
   "cell_type": "markdown",
   "metadata": {},
   "source": [
    "It is not possible to apply partial application when the argument to which we want to apply the function is not the first argument."
   ]
  },
  {
   "cell_type": "markdown",
   "metadata": {},
   "source": [
    "#### Operators Sections\n",
    "Operators can be applied partially, as shown in the previous example.  \n",
    "* (op x) y = y op x  \n",
    "* (op y) x = x op y"
   ]
  },
  {
   "cell_type": "code",
   "execution_count": 3,
   "metadata": {},
   "outputs": [
    {
     "data": {
      "text/plain": [
       "58"
      ]
     },
     "metadata": {},
     "output_type": "display_data"
    }
   ],
   "source": [
    "(+8) 50"
   ]
  },
  {
   "cell_type": "code",
   "execution_count": 4,
   "metadata": {},
   "outputs": [
    {
     "data": {
      "text/plain": [
       "True"
      ]
     },
     "metadata": {},
     "output_type": "display_data"
    }
   ],
   "source": [
    "(>2) 10"
   ]
  },
  {
   "cell_type": "code",
   "execution_count": 5,
   "metadata": {},
   "outputs": [
    {
     "data": {
      "text/plain": [
       "[3,4,7]"
      ]
     },
     "metadata": {},
     "output_type": "display_data"
    }
   ],
   "source": [
    "(3:) [4,7]"
   ]
  },
  {
   "cell_type": "code",
   "execution_count": 6,
   "metadata": {},
   "outputs": [
    {
     "data": {
      "text/plain": [
       "\"Hello\\n\""
      ]
     },
     "metadata": {},
     "output_type": "display_data"
    }
   ],
   "source": [
    "(++ \"\\n\") \"Hello\" -- adds a new line char at the end of a string"
   ]
  },
  {
   "cell_type": "code",
   "execution_count": 7,
   "metadata": {},
   "outputs": [
    {
     "data": {
      "text/plain": [
       "\"\\nHello\""
      ]
     },
     "metadata": {},
     "output_type": "display_data"
    }
   ],
   "source": [
    "(\"\\n\" ++) \"Hello\" -- adds a new line char at the beginning of a string"
   ]
  },
  {
   "cell_type": "code",
   "execution_count": 8,
   "metadata": {},
   "outputs": [
    {
     "data": {
      "text/plain": [
       "[5,6]"
      ]
     },
     "metadata": {},
     "output_type": "display_data"
    }
   ],
   "source": [
    "filter (>3) [1,5,2,6]"
   ]
  },
  {
   "cell_type": "code",
   "execution_count": 9,
   "metadata": {},
   "outputs": [
    {
     "data": {
      "text/plain": [
       "[1,2,3]"
      ]
     },
     "metadata": {},
     "output_type": "display_data"
    }
   ],
   "source": [
    "map (`div` 2) [2,4,6] "
   ]
  },
  {
   "cell_type": "markdown",
   "metadata": {},
   "source": [
    "## Currying\n",
    "Functions in Haskell are curried. It means that a function takes one parameter and returns another function which requires the remaining arguments.  \n",
    "So we can say that **every function in Haskell takes exactly one argument**.\n",
    "\n",
    "`func :: Int -> Int -> Int` is shorthand for `func :: Int -> (Int -> Int)`  \n",
    "Therefore we can apply func to an integer.  \n",
    "\n",
    "(func 3) :: Int -> Int\n",
    "\n",
    "(func 3) 5 :: Int\n",
    "\n",
    "In general: `func :: t1 -> t2 -> .. -> tn -> t` is actually `func :: t1 -> (t2 -> (.. -> (tn -> t)..))`\n",
    "\n",
    "Note: function application is left associative and arrows in the signature are right associative.\n",
    "- f a b is equal to (f a) b but not equal to f (a b).\n",
    "- a -> b -> c is equal to a -> (b -> c) but not equal to (a -> b) -> c\n",
    "\n",
    "`func a b .. z` is evaluated as `(..((func a) b).. z)`\n",
    "\n",
    "### Currying vs Uncurrying\n",
    "**Curried version** of sum function:\n",
    "sum :: Integer -> Integer -> Integer\n",
    "sum a b = a + b\n",
    "\n",
    "**Uncurried version** of sum function:\n",
    "sum :: (Integer, Integer) -> Integer\n",
    "sum (a,b) = a + b\n",
    "\n",
    "The curried version is what we would normally implement in Haskell.  \n",
    "\n",
    "The uncurried version is similar to what we have in most of the programming languages. Uncurried version does not allow partial application since it already expects a single argument.\n",
    "\n",
    "**Note: Arrows are NOT associative!**  \n",
    "For example: `fun :: (Int -> Int) -> Int` expects a function, which takes an int and returns an int, as parameter\n",
    "\n",
    "### Conversion between Curried and Uncurried Form\n",
    "\n",
    "**curry** and **uncurry** functions in prelude can be used.\n",
    "```Haskell\n",
    "curry :: ((a, b) -> c) -> (a -> b -> c)\n",
    "curry g x y = g (x,y)```  \n",
    "\n",
    "```Haskell\n",
    "uncurry :: (a -> b -> c) -> ((a,b) -> c)\n",
    "uncurry g (a,b) = g a b```"
   ]
  },
  {
   "cell_type": "markdown",
   "metadata": {},
   "source": [
    "### Function Composition (.)\n",
    "f . g (x) = f (g x) \n",
    "\n",
    "What is the type of \".\"? \n",
    "\n",
    "Assume type of x is a.  \n",
    "Then g takes an argument of type a and returns a value of type b  \n",
    "f takes this argument of type b and returns a value of type c   \n",
    "\n",
    "Let's write the signature of \"function .\"  \n",
    "```Haskell \n",
    "(.) :: (b -> c) -> (a -> b) -> a -> c\n",
    "(.) f g x = f (g x)\n",
    "```\n",
    "\n",
    "**(b -> c)** comes from the 1st argument, which is function f  \n",
    "**(a -> b)** comes from the 2nd argument, which is function g  \n",
    "a comes from the 3rd argument which is x  \n",
    "c is the type of the return value (since f returns a value of type c, the return value of . is also c\n",
    "\n",
    "*Note that f . g is NOT equal to g . f*"
   ]
  },
  {
   "cell_type": "code",
   "execution_count": 10,
   "metadata": {},
   "outputs": [
    {
     "data": {
      "text/plain": [
       "True"
      ]
     },
     "metadata": {},
     "output_type": "display_data"
    },
    {
     "data": {
      "text/plain": [
       "False"
      ]
     },
     "metadata": {},
     "output_type": "display_data"
    }
   ],
   "source": [
    "-- Let's compose not and even function in order to produce odd function\n",
    "odd' :: Integer -> Bool\n",
    "odd' = not . even \n",
    "\n",
    "odd' 13\n",
    "odd' 14"
   ]
  },
  {
   "cell_type": "code",
   "execution_count": 11,
   "metadata": {},
   "outputs": [
    {
     "data": {
      "text/plain": [
       "2"
      ]
     },
     "metadata": {},
     "output_type": "display_data"
    }
   ],
   "source": [
    "-- function that returns the second element in a list\n",
    "sec :: [a] -> a\n",
    "sec = head . tail\n",
    "\n",
    "sec [1,2,3,4,5]"
   ]
  },
  {
   "cell_type": "markdown",
   "metadata": {},
   "source": [
    "#### Function Application via $  \n",
    "\n",
    "In order to make the code more readable, we can eliminate parantheses via $.  \n",
    "\n",
    "For instance,  \n",
    "`sum ( filter odd (map (floor . sqrt) [1 .. 100]))`  \n",
    "can be written as  \n",
    "`sum $ filter odd $ map (floor . sqrt) [1 .. 100]`"
   ]
  },
  {
   "cell_type": "code",
   "execution_count": 12,
   "metadata": {},
   "outputs": [
    {
     "data": {
      "text/plain": [
       "[3,50]"
      ]
     },
     "metadata": {},
     "output_type": "display_data"
    }
   ],
   "source": [
    "zipWith ($) [sum, product] [[1, 2], [5, 10]] \n",
    "\n",
    "-- this does the following: [sum $ [1,2], product $ [5, 10]]"
   ]
  }
 ],
 "metadata": {
  "kernelspec": {
   "display_name": "Haskell",
   "language": "haskell",
   "name": "haskell"
  },
  "language_info": {
   "codemirror_mode": "ihaskell",
   "file_extension": ".hs",
   "name": "haskell",
   "pygments_lexer": "Haskell",
   "version": "8.6.3"
  }
 },
 "nbformat": 4,
 "nbformat_minor": 2
}
